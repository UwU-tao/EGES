{
  "nbformat": 4,
  "nbformat_minor": 0,
  "metadata": {
    "colab": {
      "provenance": []
    },
    "kernelspec": {
      "name": "python3",
      "display_name": "Python 3"
    },
    "language_info": {
      "name": "python"
    }
  },
  "cells": [
    {
      "cell_type": "code",
      "execution_count": 1,
      "metadata": {
        "colab": {
          "base_uri": "https://localhost:8080/"
        },
        "id": "9jNr4wpNNoJP",
        "outputId": "fc865de7-e58d-4038-c8df-b2d003f997f2"
      },
      "outputs": [
        {
          "output_type": "stream",
          "name": "stdout",
          "text": [
            "Cloning into 'EGES'...\n",
            "remote: Enumerating objects: 11, done.\u001b[K\n",
            "remote: Counting objects: 100% (11/11), done.\u001b[K\n",
            "remote: Compressing objects: 100% (8/8), done.\u001b[K\n",
            "remote: Total 11 (delta 2), reused 11 (delta 2), pack-reused 0\u001b[K\n",
            "Receiving objects: 100% (11/11), 5.82 KiB | 2.91 MiB/s, done.\n",
            "Resolving deltas: 100% (2/2), done.\n"
          ]
        }
      ],
      "source": [
        "!git clone https://github.com/UwU-tao/EGES.git"
      ]
    },
    {
      "cell_type": "code",
      "source": [
        "%cd EGES\n",
        "!pip install dgl"
      ],
      "metadata": {
        "colab": {
          "base_uri": "https://localhost:8080/"
        },
        "id": "ZNMvva6ENyo_",
        "outputId": "422ebbcc-ab3a-4ce1-d27d-13e0e134dc93"
      },
      "execution_count": 2,
      "outputs": [
        {
          "output_type": "stream",
          "name": "stdout",
          "text": [
            "/content/EGES\n",
            "Collecting dgl\n",
            "  Downloading dgl-1.1.3-cp310-cp310-manylinux1_x86_64.whl (6.5 MB)\n",
            "\u001b[2K     \u001b[90m━━━━━━━━━━━━━━━━━━━━━━━━━━━━━━━━━━━━━━━━\u001b[0m \u001b[32m6.5/6.5 MB\u001b[0m \u001b[31m25.2 MB/s\u001b[0m eta \u001b[36m0:00:00\u001b[0m\n",
            "\u001b[?25hRequirement already satisfied: numpy>=1.14.0 in /usr/local/lib/python3.10/dist-packages (from dgl) (1.23.5)\n",
            "Requirement already satisfied: scipy>=1.1.0 in /usr/local/lib/python3.10/dist-packages (from dgl) (1.11.4)\n",
            "Requirement already satisfied: networkx>=2.1 in /usr/local/lib/python3.10/dist-packages (from dgl) (3.2.1)\n",
            "Requirement already satisfied: requests>=2.19.0 in /usr/local/lib/python3.10/dist-packages (from dgl) (2.31.0)\n",
            "Requirement already satisfied: tqdm in /usr/local/lib/python3.10/dist-packages (from dgl) (4.66.1)\n",
            "Requirement already satisfied: psutil>=5.8.0 in /usr/local/lib/python3.10/dist-packages (from dgl) (5.9.5)\n",
            "Requirement already satisfied: charset-normalizer<4,>=2 in /usr/local/lib/python3.10/dist-packages (from requests>=2.19.0->dgl) (3.3.2)\n",
            "Requirement already satisfied: idna<4,>=2.5 in /usr/local/lib/python3.10/dist-packages (from requests>=2.19.0->dgl) (3.6)\n",
            "Requirement already satisfied: urllib3<3,>=1.21.1 in /usr/local/lib/python3.10/dist-packages (from requests>=2.19.0->dgl) (2.0.7)\n",
            "Requirement already satisfied: certifi>=2017.4.17 in /usr/local/lib/python3.10/dist-packages (from requests>=2.19.0->dgl) (2023.11.17)\n",
            "Installing collected packages: dgl\n",
            "Successfully installed dgl-1.1.3\n"
          ]
        }
      ]
    },
    {
      "cell_type": "code",
      "source": [
        "!mkdir data\n",
        "!wget https://raw.githubusercontent.com/Wang-Yu-Qing/dgl_data/master/eges_data/action_head.csv -P data/\n",
        "!wget https://raw.githubusercontent.com/Wang-Yu-Qing/dgl_data/master/eges_data/jdata_product.csv -P data/"
      ],
      "metadata": {
        "colab": {
          "base_uri": "https://localhost:8080/"
        },
        "id": "3m4HIySYOT2l",
        "outputId": "e08e29d6-3865-4266-c1a7-6ee0275f86e9"
      },
      "execution_count": 3,
      "outputs": [
        {
          "output_type": "stream",
          "name": "stdout",
          "text": [
            "--2023-12-17 14:41:20--  https://raw.githubusercontent.com/Wang-Yu-Qing/dgl_data/master/eges_data/action_head.csv\n",
            "Resolving raw.githubusercontent.com (raw.githubusercontent.com)... 185.199.110.133, 185.199.108.133, 185.199.109.133, ...\n",
            "Connecting to raw.githubusercontent.com (raw.githubusercontent.com)|185.199.110.133|:443... connected.\n",
            "HTTP request sent, awaiting response... 200 OK\n",
            "Length: 4405365 (4.2M) [text/plain]\n",
            "Saving to: ‘data/action_head.csv’\n",
            "\n",
            "action_head.csv     100%[===================>]   4.20M  --.-KB/s    in 0.03s   \n",
            "\n",
            "2023-12-17 14:41:21 (125 MB/s) - ‘data/action_head.csv’ saved [4405365/4405365]\n",
            "\n",
            "--2023-12-17 14:41:22--  https://raw.githubusercontent.com/Wang-Yu-Qing/dgl_data/master/eges_data/jdata_product.csv\n",
            "Resolving raw.githubusercontent.com (raw.githubusercontent.com)... 185.199.108.133, 185.199.109.133, 185.199.110.133, ...\n",
            "Connecting to raw.githubusercontent.com (raw.githubusercontent.com)|185.199.108.133|:443... connected.\n",
            "HTTP request sent, awaiting response... 200 OK\n",
            "Length: 14597129 (14M) [text/plain]\n",
            "Saving to: ‘data/jdata_product.csv’\n",
            "\n",
            "jdata_product.csv   100%[===================>]  13.92M  --.-KB/s    in 0.05s   \n",
            "\n",
            "2023-12-17 14:41:23 (256 MB/s) - ‘data/jdata_product.csv’ saved [14597129/14597129]\n",
            "\n"
          ]
        }
      ]
    },
    {
      "cell_type": "code",
      "source": [
        "!python main.py --epochs 3"
      ],
      "metadata": {
        "colab": {
          "base_uri": "https://localhost:8080/"
        },
        "id": "P2dhhNHkOXCa",
        "outputId": "05e16dc6-06dc-4ef2-d5e3-9ef5d65d29b4"
      },
      "execution_count": 4,
      "outputs": [
        {
          "output_type": "stream",
          "name": "stdout",
          "text": [
            "DGL backend not selected or invalid.  Assuming PyTorch for now.\n",
            "Setting the default backend to \"pytorch\". You can change it in the ~/.dgl/config.json file or export the DGLBACKEND environment variable.  Valid options are: pytorch, mxnet, tensorflow (all lowercase)\n",
            "Num skus: 33344, num brands: 3662, num shops: 4785, num cates: 79\n",
            "Epoch 00000 | Step 00000 | Step Loss 0.8972 | Epoch Avg Loss: 0.8972\n",
            "Epoch 00000 | Step 00100 | Step Loss 0.8643 | Epoch Avg Loss: 0.8755\n",
            "Epoch 00000 | Step 00200 | Step Loss 0.8566 | Epoch Avg Loss: 0.8694\n",
            "AUC: 0.6821\n",
            "Recall: 0.6394\n",
            "Epoch 00001 | Step 00000 | Step Loss 0.8396 | Epoch Avg Loss: 0.8396\n",
            "Epoch 00001 | Step 00100 | Step Loss 0.8314 | Epoch Avg Loss: 0.8574\n",
            "Epoch 00001 | Step 00200 | Step Loss 0.8472 | Epoch Avg Loss: 0.8545\n",
            "AUC: 0.6834\n",
            "Recall: 0.6360\n",
            "Epoch 00002 | Step 00000 | Step Loss 0.8320 | Epoch Avg Loss: 0.8320\n",
            "Epoch 00002 | Step 00100 | Step Loss 0.8142 | Epoch Avg Loss: 0.8430\n",
            "Epoch 00002 | Step 00200 | Step Loss 0.8364 | Epoch Avg Loss: 0.8411\n",
            "AUC: 0.6846\n",
            "Recall: 0.6436\n"
          ]
        }
      ]
    },
    {
      "cell_type": "code",
      "source": [],
      "metadata": {
        "id": "9fuhcEeLOcem"
      },
      "execution_count": null,
      "outputs": []
    }
  ]
}